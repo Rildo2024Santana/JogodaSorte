{
 "cells": [
  {
   "cell_type": "markdown",
   "metadata": {},
   "source": [
    "<h4 style=\"color: #2bb3cc\">Tratando erros com o bloco <code>try...except</code></h4>\n",
    "\n",
    "**Formato**\n",
    "\n",
    "```python\n",
    "try:\n",
    "    'código que o python irá tentar executar'\n",
    "except:\n",
    "    'código que será executado se ocorrer uma exceção'\n",
    "else:\n",
    "    'código que será executado quando não ocorrer a exceção (opcional)'\n",
    "finally:\n",
    "    'código que será sempre executado (opcional)'\n",
    "```"
   ]
  },
  {
   "cell_type": "code",
   "execution_count": 19,
   "metadata": {},
   "outputs": [
    {
     "name": "stdout",
     "output_type": "stream",
     "text": [
      "Você está tentando usar um objeto não declarado\n",
      "programa continua...\n"
     ]
    }
   ],
   "source": [
    "try:\n",
    "    print(nome)\n",
    "    print(10 / 0)\n",
    "except NameError:\n",
    "    print('Você está tentando usar um objeto não declarado')\n",
    "except ZeroDivisionError:\n",
    "    print('Você está tentando dividir um número por 0!')\n",
    "\n",
    "print('programa continua...')"
   ]
  },
  {
   "cell_type": "code",
   "execution_count": 21,
   "metadata": {},
   "outputs": [
    {
     "name": "stdout",
     "output_type": "stream",
     "text": [
      "Ocorreu o seguinte erro: division by zero\n"
     ]
    }
   ],
   "source": [
    "try:\n",
    "    print(10 / 0)\n",
    "except Exception as e:\n",
    "    print(f'Ocorreu o seguinte erro: {e}')"
   ]
  },
  {
   "cell_type": "code",
   "execution_count": 25,
   "metadata": {},
   "outputs": [
    {
     "ename": "SyntaxError",
     "evalue": "invalid syntax (Temp/ipykernel_3812/1398278281.py, line 2)",
     "output_type": "error",
     "traceback": [
      "\u001b[1;36m  File \u001b[1;32m\"C:\\Users\\vinil\\AppData\\Local\\Temp/ipykernel_3812/1398278281.py\"\u001b[1;36m, line \u001b[1;32m2\u001b[0m\n\u001b[1;33m    fur i in range(10):\u001b[0m\n\u001b[1;37m        ^\u001b[0m\n\u001b[1;31mSyntaxError\u001b[0m\u001b[1;31m:\u001b[0m invalid syntax\n"
     ]
    }
   ],
   "source": [
    "# o try...except não consegue tratar SyntaxError ----> porque o interpretador \n",
    "# nem consegue executar o código!\n",
    "try:\n",
    "    fur i in range(10):\n",
    "        print(i)\n",
    "except:\n",
    "    print('Ocorreu um erro!')"
   ]
  },
  {
   "cell_type": "markdown",
   "metadata": {},
   "source": [
    "<h4 style=\"color: #2bb3cc\"><code>else</code> e <code>finally</code></h4>"
   ]
  },
  {
   "cell_type": "code",
   "execution_count": 37,
   "metadata": {},
   "outputs": [
    {
     "name": "stdout",
     "output_type": "stream",
     "text": [
      "5.0\n",
      "Código que sempre vai ser executado!\n",
      "programa continua...\n"
     ]
    }
   ],
   "source": [
    "try:\n",
    "    resultado = 10 / 2\n",
    "except:\n",
    "    print('Ocorreu um erro!')\n",
    "else:\n",
    "    print(resultado)\n",
    "finally:\n",
    "    print('Código que sempre vai ser executado!')\n",
    " \n",
    "    \n",
    "print('programa continua...')\n",
    "    \n"
   ]
  },
  {
   "cell_type": "code",
   "execution_count": null,
   "metadata": {},
   "outputs": [],
   "source": []
  }
 ],
 "metadata": {
  "interpreter": {
   "hash": "00ade8ac639d43d658fc76b8feba7834bcdc4285efed6e2ac67cecbb4c409c47"
  },
  "kernelspec": {
   "display_name": "Python 3.9.7 ('base')",
   "language": "python",
   "name": "python3"
  },
  "language_info": {
   "codemirror_mode": {
    "name": "ipython",
    "version": 3
   },
   "file_extension": ".py",
   "mimetype": "text/x-python",
   "name": "python",
   "nbconvert_exporter": "python",
   "pygments_lexer": "ipython3",
   "version": "3.9.7"
  },
  "orig_nbformat": 4
 },
 "nbformat": 4,
 "nbformat_minor": 2
}
